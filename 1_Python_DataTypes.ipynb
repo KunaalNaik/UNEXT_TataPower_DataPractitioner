{
 "cells": [
  {
   "cell_type": "markdown",
   "id": "1bfb95f0-13be-492c-bb3a-8974a067c09c",
   "metadata": {},
   "source": [
    "# Python Basics\n",
    "- Numerical\n",
    "- Text/String\n",
    "- Date & Time\n",
    "- List/Array/Dictionary"
   ]
  },
  {
   "cell_type": "markdown",
   "id": "64269c2c-3d5f-4fed-a19b-9dd2bb65cf88",
   "metadata": {},
   "source": [
    "## Numerical"
   ]
  },
  {
   "cell_type": "code",
   "execution_count": 3,
   "id": "4ceac24e-e9c2-4835-b9e6-b9fef929a675",
   "metadata": {},
   "outputs": [],
   "source": [
    "# Create variables x and y and assign values to it\n",
    "x = 10\n",
    "y = 555"
   ]
  },
  {
   "cell_type": "code",
   "execution_count": 4,
   "id": "ca71ae99-fec4-4eae-bd8b-e260d62d8f9b",
   "metadata": {},
   "outputs": [
    {
     "name": "stdout",
     "output_type": "stream",
     "text": [
      "10\n"
     ]
    }
   ],
   "source": [
    "print(x)"
   ]
  },
  {
   "cell_type": "code",
   "execution_count": 5,
   "id": "99fced99-3348-4ace-927f-d0ffa59582c6",
   "metadata": {},
   "outputs": [
    {
     "name": "stdout",
     "output_type": "stream",
     "text": [
      "555\n"
     ]
    }
   ],
   "source": [
    "print(y)"
   ]
  },
  {
   "cell_type": "code",
   "execution_count": 6,
   "id": "9ef6d714-97db-4eef-a252-c5db6460f6be",
   "metadata": {},
   "outputs": [
    {
     "name": "stdout",
     "output_type": "stream",
     "text": [
      "55.5\n"
     ]
    }
   ],
   "source": [
    "# Divide y/x \n",
    "\n",
    "print(y/x)\n",
    "\n",
    "# Mul, Divide, Mean, Sum, Subtract, Power"
   ]
  },
  {
   "cell_type": "markdown",
   "id": "d6167357-d15d-471a-a116-c88ab92e4450",
   "metadata": {},
   "source": [
    "# String Data"
   ]
  },
  {
   "cell_type": "code",
   "execution_count": 1,
   "id": "3e6f6ffe-c0f2-4eeb-9fc5-45c9a6bb3134",
   "metadata": {},
   "outputs": [],
   "source": [
    "# Creating a string\n",
    "my_company = 'Tata Power'"
   ]
  },
  {
   "cell_type": "code",
   "execution_count": 2,
   "id": "c34d8e23-12ff-4bf8-aca6-7598e93ebec3",
   "metadata": {},
   "outputs": [
    {
     "name": "stdout",
     "output_type": "stream",
     "text": [
      "Tata Power\n"
     ]
    }
   ],
   "source": [
    "print(my_company)"
   ]
  },
  {
   "cell_type": "code",
   "execution_count": 3,
   "id": "8885ec96-77c0-4787-acce-a6814fe6c73e",
   "metadata": {},
   "outputs": [
    {
     "data": {
      "text/plain": [
       "'P'"
      ]
     },
     "execution_count": 3,
     "metadata": {},
     "output_type": "execute_result"
    }
   ],
   "source": [
    "# Accessing individual characters of a string\n",
    "my_company[5]"
   ]
  },
  {
   "cell_type": "code",
   "execution_count": 5,
   "id": "61ffef21-2cbf-423c-b7bf-dc6b1822e851",
   "metadata": {},
   "outputs": [
    {
     "data": {
      "text/plain": [
       "'Tata'"
      ]
     },
     "execution_count": 5,
     "metadata": {},
     "output_type": "execute_result"
    }
   ],
   "source": [
    "# Slicing a string\n",
    "my_company[0:4] # additional one for the end value"
   ]
  },
  {
   "cell_type": "code",
   "execution_count": 7,
   "id": "439e8d96-695a-4256-96b4-c26651afc646",
   "metadata": {},
   "outputs": [
    {
     "data": {
      "text/plain": [
       "'Power'"
      ]
     },
     "execution_count": 7,
     "metadata": {},
     "output_type": "execute_result"
    }
   ],
   "source": [
    "# Slicing a string\n",
    "my_company[5:] # till the end"
   ]
  },
  {
   "cell_type": "code",
   "execution_count": 8,
   "id": "0be618f4-6609-42eb-9e2b-388e74b04af9",
   "metadata": {},
   "outputs": [
    {
     "data": {
      "text/plain": [
       "'Tw'"
      ]
     },
     "execution_count": 8,
     "metadata": {},
     "output_type": "execute_result"
    }
   ],
   "source": [
    "# Concatenate 2 Strings\n",
    "my_company[0] + my_company[7]"
   ]
  },
  {
   "cell_type": "markdown",
   "id": "5aa39ec6-1c88-409a-908b-286fb16d1f24",
   "metadata": {},
   "source": [
    "# Lists/Arrays"
   ]
  },
  {
   "cell_type": "code",
   "execution_count": 9,
   "id": "8480e1bf-fc48-4733-aea5-e712a0c95f2a",
   "metadata": {},
   "outputs": [],
   "source": [
    "# Creating 2 lists\n",
    "student = ['Raju', 'Ramesh', 'Priya', 'Anita']\n",
    "age = [15, 17, 18, 16]"
   ]
  },
  {
   "cell_type": "code",
   "execution_count": 10,
   "id": "f470c184-27e5-4610-b172-da184cd567c3",
   "metadata": {},
   "outputs": [
    {
     "name": "stdout",
     "output_type": "stream",
     "text": [
      "['Raju', 'Ramesh', 'Priya', 'Anita']\n",
      "[15, 17, 18, 16]\n"
     ]
    }
   ],
   "source": [
    "print(student)\n",
    "print(age)"
   ]
  },
  {
   "cell_type": "code",
   "execution_count": 11,
   "id": "178a61b8-e2a4-4d8f-9ab9-07fda315c25d",
   "metadata": {},
   "outputs": [
    {
     "data": {
      "text/plain": [
       "'Anita'"
      ]
     },
     "execution_count": 11,
     "metadata": {},
     "output_type": "execute_result"
    }
   ],
   "source": [
    "# Accessing individual item in a list\n",
    "student[3]"
   ]
  },
  {
   "cell_type": "markdown",
   "id": "026d6b5d-d2c7-475a-a9a5-72555bbc6edb",
   "metadata": {},
   "source": [
    "# Dictionary (key : value/list)"
   ]
  },
  {
   "cell_type": "code",
   "execution_count": 12,
   "id": "3b65f673-1760-4c1b-b36b-09fcda71735b",
   "metadata": {},
   "outputs": [
    {
     "data": {
      "text/plain": [
       "{'Name': ['Raju', 'Ramesh', 'Priya', 'Anita'], 'Age': [15, 17, 18, 16]}"
      ]
     },
     "execution_count": 12,
     "metadata": {},
     "output_type": "execute_result"
    }
   ],
   "source": [
    "{ 'Name' : student, \n",
    " 'Age' : age\n",
    "}"
   ]
  },
  {
   "cell_type": "markdown",
   "id": "f9b35136-ff2f-42f4-b156-aa9a6c91a61f",
   "metadata": {},
   "source": [
    "# Pandas Dataframe"
   ]
  },
  {
   "cell_type": "code",
   "execution_count": 17,
   "id": "823c2811-5ed7-416f-90c1-c4cf828a4752",
   "metadata": {},
   "outputs": [],
   "source": [
    "import numpy as np\n",
    "import pandas as pd"
   ]
  },
  {
   "cell_type": "code",
   "execution_count": 18,
   "id": "e5397349-a39a-4637-b78a-8c1c36c570de",
   "metadata": {},
   "outputs": [],
   "source": [
    "df = pd.DataFrame({ 'Name' : student, \n",
    " 'Age' : age\n",
    "})"
   ]
  },
  {
   "cell_type": "code",
   "execution_count": 19,
   "id": "f5e0ac8e-7fcc-4f0b-b458-bb7580409753",
   "metadata": {},
   "outputs": [
    {
     "data": {
      "text/html": [
       "<div>\n",
       "<style scoped>\n",
       "    .dataframe tbody tr th:only-of-type {\n",
       "        vertical-align: middle;\n",
       "    }\n",
       "\n",
       "    .dataframe tbody tr th {\n",
       "        vertical-align: top;\n",
       "    }\n",
       "\n",
       "    .dataframe thead th {\n",
       "        text-align: right;\n",
       "    }\n",
       "</style>\n",
       "<table border=\"1\" class=\"dataframe\">\n",
       "  <thead>\n",
       "    <tr style=\"text-align: right;\">\n",
       "      <th></th>\n",
       "      <th>Name</th>\n",
       "      <th>Age</th>\n",
       "    </tr>\n",
       "  </thead>\n",
       "  <tbody>\n",
       "    <tr>\n",
       "      <th>0</th>\n",
       "      <td>Raju</td>\n",
       "      <td>15</td>\n",
       "    </tr>\n",
       "    <tr>\n",
       "      <th>1</th>\n",
       "      <td>Ramesh</td>\n",
       "      <td>17</td>\n",
       "    </tr>\n",
       "    <tr>\n",
       "      <th>2</th>\n",
       "      <td>Priya</td>\n",
       "      <td>18</td>\n",
       "    </tr>\n",
       "    <tr>\n",
       "      <th>3</th>\n",
       "      <td>Anita</td>\n",
       "      <td>16</td>\n",
       "    </tr>\n",
       "  </tbody>\n",
       "</table>\n",
       "</div>"
      ],
      "text/plain": [
       "     Name  Age\n",
       "0    Raju   15\n",
       "1  Ramesh   17\n",
       "2   Priya   18\n",
       "3   Anita   16"
      ]
     },
     "execution_count": 19,
     "metadata": {},
     "output_type": "execute_result"
    }
   ],
   "source": [
    "df"
   ]
  },
  {
   "cell_type": "code",
   "execution_count": 20,
   "id": "67712902-4984-4083-bc5b-959a3cba71a9",
   "metadata": {},
   "outputs": [
    {
     "data": {
      "text/plain": [
       "0      Raju\n",
       "1    Ramesh\n",
       "2     Priya\n",
       "3     Anita\n",
       "Name: Name, dtype: object"
      ]
     },
     "execution_count": 20,
     "metadata": {},
     "output_type": "execute_result"
    }
   ],
   "source": [
    "# Access Column\n",
    "df['Name']"
   ]
  },
  {
   "cell_type": "code",
   "execution_count": 22,
   "id": "93391a22-73a8-4d43-8db0-126f75c94aab",
   "metadata": {},
   "outputs": [
    {
     "data": {
      "text/plain": [
       "Name    Priya\n",
       "Age        18\n",
       "Name: 2, dtype: object"
      ]
     },
     "execution_count": 22,
     "metadata": {},
     "output_type": "execute_result"
    }
   ],
   "source": [
    "# Access Row\n",
    "df.iloc[2]"
   ]
  },
  {
   "cell_type": "markdown",
   "id": "dd1a94e2-0959-40c1-adec-0b695694ffc5",
   "metadata": {},
   "source": [
    "# Creating Columns"
   ]
  },
  {
   "cell_type": "code",
   "execution_count": 23,
   "id": "7191be3a-923b-4322-8646-5651a3ea5cbc",
   "metadata": {},
   "outputs": [
    {
     "data": {
      "text/html": [
       "<div>\n",
       "<style scoped>\n",
       "    .dataframe tbody tr th:only-of-type {\n",
       "        vertical-align: middle;\n",
       "    }\n",
       "\n",
       "    .dataframe tbody tr th {\n",
       "        vertical-align: top;\n",
       "    }\n",
       "\n",
       "    .dataframe thead th {\n",
       "        text-align: right;\n",
       "    }\n",
       "</style>\n",
       "<table border=\"1\" class=\"dataframe\">\n",
       "  <thead>\n",
       "    <tr style=\"text-align: right;\">\n",
       "      <th></th>\n",
       "      <th>Name</th>\n",
       "      <th>Age</th>\n",
       "    </tr>\n",
       "  </thead>\n",
       "  <tbody>\n",
       "    <tr>\n",
       "      <th>0</th>\n",
       "      <td>Raju</td>\n",
       "      <td>15</td>\n",
       "    </tr>\n",
       "    <tr>\n",
       "      <th>1</th>\n",
       "      <td>Ramesh</td>\n",
       "      <td>17</td>\n",
       "    </tr>\n",
       "    <tr>\n",
       "      <th>2</th>\n",
       "      <td>Priya</td>\n",
       "      <td>18</td>\n",
       "    </tr>\n",
       "    <tr>\n",
       "      <th>3</th>\n",
       "      <td>Anita</td>\n",
       "      <td>16</td>\n",
       "    </tr>\n",
       "  </tbody>\n",
       "</table>\n",
       "</div>"
      ],
      "text/plain": [
       "     Name  Age\n",
       "0    Raju   15\n",
       "1  Ramesh   17\n",
       "2   Priya   18\n",
       "3   Anita   16"
      ]
     },
     "execution_count": 23,
     "metadata": {},
     "output_type": "execute_result"
    }
   ],
   "source": [
    "df"
   ]
  },
  {
   "cell_type": "code",
   "execution_count": 24,
   "id": "904d3237-4640-42d1-839b-368540ff6210",
   "metadata": {},
   "outputs": [],
   "source": [
    "# Third Column - that has marks for on subject - Maths\n",
    "df['Maths'] = [20,50,80,70]"
   ]
  },
  {
   "cell_type": "code",
   "execution_count": 25,
   "id": "41a5f7d7-2c10-4ea2-a50e-be872edb8469",
   "metadata": {},
   "outputs": [
    {
     "data": {
      "text/html": [
       "<div>\n",
       "<style scoped>\n",
       "    .dataframe tbody tr th:only-of-type {\n",
       "        vertical-align: middle;\n",
       "    }\n",
       "\n",
       "    .dataframe tbody tr th {\n",
       "        vertical-align: top;\n",
       "    }\n",
       "\n",
       "    .dataframe thead th {\n",
       "        text-align: right;\n",
       "    }\n",
       "</style>\n",
       "<table border=\"1\" class=\"dataframe\">\n",
       "  <thead>\n",
       "    <tr style=\"text-align: right;\">\n",
       "      <th></th>\n",
       "      <th>Name</th>\n",
       "      <th>Age</th>\n",
       "      <th>Maths</th>\n",
       "    </tr>\n",
       "  </thead>\n",
       "  <tbody>\n",
       "    <tr>\n",
       "      <th>0</th>\n",
       "      <td>Raju</td>\n",
       "      <td>15</td>\n",
       "      <td>20</td>\n",
       "    </tr>\n",
       "    <tr>\n",
       "      <th>1</th>\n",
       "      <td>Ramesh</td>\n",
       "      <td>17</td>\n",
       "      <td>50</td>\n",
       "    </tr>\n",
       "    <tr>\n",
       "      <th>2</th>\n",
       "      <td>Priya</td>\n",
       "      <td>18</td>\n",
       "      <td>80</td>\n",
       "    </tr>\n",
       "    <tr>\n",
       "      <th>3</th>\n",
       "      <td>Anita</td>\n",
       "      <td>16</td>\n",
       "      <td>70</td>\n",
       "    </tr>\n",
       "  </tbody>\n",
       "</table>\n",
       "</div>"
      ],
      "text/plain": [
       "     Name  Age  Maths\n",
       "0    Raju   15     20\n",
       "1  Ramesh   17     50\n",
       "2   Priya   18     80\n",
       "3   Anita   16     70"
      ]
     },
     "execution_count": 25,
     "metadata": {},
     "output_type": "execute_result"
    }
   ],
   "source": [
    "df"
   ]
  },
  {
   "cell_type": "code",
   "execution_count": 26,
   "id": "d4b37370-3b7f-4757-b6d7-ec6ad869b870",
   "metadata": {},
   "outputs": [
    {
     "data": {
      "text/html": [
       "<div>\n",
       "<style scoped>\n",
       "    .dataframe tbody tr th:only-of-type {\n",
       "        vertical-align: middle;\n",
       "    }\n",
       "\n",
       "    .dataframe tbody tr th {\n",
       "        vertical-align: top;\n",
       "    }\n",
       "\n",
       "    .dataframe thead th {\n",
       "        text-align: right;\n",
       "    }\n",
       "</style>\n",
       "<table border=\"1\" class=\"dataframe\">\n",
       "  <thead>\n",
       "    <tr style=\"text-align: right;\">\n",
       "      <th></th>\n",
       "      <th>Name</th>\n",
       "      <th>Age</th>\n",
       "      <th>Maths</th>\n",
       "      <th>Science</th>\n",
       "    </tr>\n",
       "  </thead>\n",
       "  <tbody>\n",
       "    <tr>\n",
       "      <th>0</th>\n",
       "      <td>Raju</td>\n",
       "      <td>15</td>\n",
       "      <td>20</td>\n",
       "      <td>35</td>\n",
       "    </tr>\n",
       "    <tr>\n",
       "      <th>1</th>\n",
       "      <td>Ramesh</td>\n",
       "      <td>17</td>\n",
       "      <td>50</td>\n",
       "      <td>45</td>\n",
       "    </tr>\n",
       "    <tr>\n",
       "      <th>2</th>\n",
       "      <td>Priya</td>\n",
       "      <td>18</td>\n",
       "      <td>80</td>\n",
       "      <td>23</td>\n",
       "    </tr>\n",
       "    <tr>\n",
       "      <th>3</th>\n",
       "      <td>Anita</td>\n",
       "      <td>16</td>\n",
       "      <td>70</td>\n",
       "      <td>87</td>\n",
       "    </tr>\n",
       "  </tbody>\n",
       "</table>\n",
       "</div>"
      ],
      "text/plain": [
       "     Name  Age  Maths  Science\n",
       "0    Raju   15     20       35\n",
       "1  Ramesh   17     50       45\n",
       "2   Priya   18     80       23\n",
       "3   Anita   16     70       87"
      ]
     },
     "execution_count": 26,
     "metadata": {},
     "output_type": "execute_result"
    }
   ],
   "source": [
    "# Fourth Column - Science\n",
    "df['Science'] = [35,45,23,87]\n",
    "df"
   ]
  },
  {
   "cell_type": "markdown",
   "id": "2a660432-3ba5-45d9-9aa8-62592d0ecc5c",
   "metadata": {},
   "source": [
    "# Calculated Fields - Add 2 Columns? (Feature Engineering)"
   ]
  },
  {
   "cell_type": "code",
   "execution_count": 28,
   "id": "b4cd06eb-7fe9-41c3-b5e2-8322a6df3b99",
   "metadata": {},
   "outputs": [
    {
     "data": {
      "text/html": [
       "<div>\n",
       "<style scoped>\n",
       "    .dataframe tbody tr th:only-of-type {\n",
       "        vertical-align: middle;\n",
       "    }\n",
       "\n",
       "    .dataframe tbody tr th {\n",
       "        vertical-align: top;\n",
       "    }\n",
       "\n",
       "    .dataframe thead th {\n",
       "        text-align: right;\n",
       "    }\n",
       "</style>\n",
       "<table border=\"1\" class=\"dataframe\">\n",
       "  <thead>\n",
       "    <tr style=\"text-align: right;\">\n",
       "      <th></th>\n",
       "      <th>Name</th>\n",
       "      <th>Age</th>\n",
       "      <th>Maths</th>\n",
       "      <th>Science</th>\n",
       "      <th>Total</th>\n",
       "    </tr>\n",
       "  </thead>\n",
       "  <tbody>\n",
       "    <tr>\n",
       "      <th>0</th>\n",
       "      <td>Raju</td>\n",
       "      <td>15</td>\n",
       "      <td>20</td>\n",
       "      <td>35</td>\n",
       "      <td>55</td>\n",
       "    </tr>\n",
       "    <tr>\n",
       "      <th>1</th>\n",
       "      <td>Ramesh</td>\n",
       "      <td>17</td>\n",
       "      <td>50</td>\n",
       "      <td>45</td>\n",
       "      <td>95</td>\n",
       "    </tr>\n",
       "    <tr>\n",
       "      <th>2</th>\n",
       "      <td>Priya</td>\n",
       "      <td>18</td>\n",
       "      <td>80</td>\n",
       "      <td>23</td>\n",
       "      <td>103</td>\n",
       "    </tr>\n",
       "    <tr>\n",
       "      <th>3</th>\n",
       "      <td>Anita</td>\n",
       "      <td>16</td>\n",
       "      <td>70</td>\n",
       "      <td>87</td>\n",
       "      <td>157</td>\n",
       "    </tr>\n",
       "  </tbody>\n",
       "</table>\n",
       "</div>"
      ],
      "text/plain": [
       "     Name  Age  Maths  Science  Total\n",
       "0    Raju   15     20       35     55\n",
       "1  Ramesh   17     50       45     95\n",
       "2   Priya   18     80       23    103\n",
       "3   Anita   16     70       87    157"
      ]
     },
     "execution_count": 28,
     "metadata": {},
     "output_type": "execute_result"
    }
   ],
   "source": [
    "# Get a Total Column\n",
    "df['Total'] = df['Maths'] + df['Science']\n",
    "df"
   ]
  },
  {
   "cell_type": "code",
   "execution_count": 29,
   "id": "88a8eeee-3e04-490c-8b08-7f5f8d2d8bfe",
   "metadata": {},
   "outputs": [
    {
     "data": {
      "text/html": [
       "<div>\n",
       "<style scoped>\n",
       "    .dataframe tbody tr th:only-of-type {\n",
       "        vertical-align: middle;\n",
       "    }\n",
       "\n",
       "    .dataframe tbody tr th {\n",
       "        vertical-align: top;\n",
       "    }\n",
       "\n",
       "    .dataframe thead th {\n",
       "        text-align: right;\n",
       "    }\n",
       "</style>\n",
       "<table border=\"1\" class=\"dataframe\">\n",
       "  <thead>\n",
       "    <tr style=\"text-align: right;\">\n",
       "      <th></th>\n",
       "      <th>Name</th>\n",
       "      <th>Age</th>\n",
       "      <th>Maths</th>\n",
       "      <th>Science</th>\n",
       "      <th>Total</th>\n",
       "      <th>Total_Perc</th>\n",
       "    </tr>\n",
       "  </thead>\n",
       "  <tbody>\n",
       "    <tr>\n",
       "      <th>0</th>\n",
       "      <td>Raju</td>\n",
       "      <td>15</td>\n",
       "      <td>20</td>\n",
       "      <td>35</td>\n",
       "      <td>55</td>\n",
       "      <td>0.275</td>\n",
       "    </tr>\n",
       "    <tr>\n",
       "      <th>1</th>\n",
       "      <td>Ramesh</td>\n",
       "      <td>17</td>\n",
       "      <td>50</td>\n",
       "      <td>45</td>\n",
       "      <td>95</td>\n",
       "      <td>0.475</td>\n",
       "    </tr>\n",
       "    <tr>\n",
       "      <th>2</th>\n",
       "      <td>Priya</td>\n",
       "      <td>18</td>\n",
       "      <td>80</td>\n",
       "      <td>23</td>\n",
       "      <td>103</td>\n",
       "      <td>0.515</td>\n",
       "    </tr>\n",
       "    <tr>\n",
       "      <th>3</th>\n",
       "      <td>Anita</td>\n",
       "      <td>16</td>\n",
       "      <td>70</td>\n",
       "      <td>87</td>\n",
       "      <td>157</td>\n",
       "      <td>0.785</td>\n",
       "    </tr>\n",
       "  </tbody>\n",
       "</table>\n",
       "</div>"
      ],
      "text/plain": [
       "     Name  Age  Maths  Science  Total  Total_Perc\n",
       "0    Raju   15     20       35     55       0.275\n",
       "1  Ramesh   17     50       45     95       0.475\n",
       "2   Priya   18     80       23    103       0.515\n",
       "3   Anita   16     70       87    157       0.785"
      ]
     },
     "execution_count": 29,
     "metadata": {},
     "output_type": "execute_result"
    }
   ],
   "source": [
    "# Percentage out of 200?\n",
    "df['Total_Perc'] = df['Total']/200\n",
    "df"
   ]
  },
  {
   "cell_type": "markdown",
   "id": "f6ea9aa8-193b-473b-a328-33c9e140e7fe",
   "metadata": {},
   "source": [
    "# Export data"
   ]
  },
  {
   "cell_type": "code",
   "execution_count": 32,
   "id": "36d88c43-d3f9-4f41-9f9d-ee460bb6090f",
   "metadata": {},
   "outputs": [],
   "source": [
    "df.to_csv('student.csv')"
   ]
  },
  {
   "cell_type": "code",
   "execution_count": 33,
   "id": "142c241c-f530-4ea9-b5f2-839754847aea",
   "metadata": {},
   "outputs": [],
   "source": [
    "df.to_csv('output/student.csv')"
   ]
  },
  {
   "cell_type": "code",
   "execution_count": null,
   "id": "f5337659-4e1e-4898-b1b8-5d2ac72b4cc3",
   "metadata": {},
   "outputs": [],
   "source": []
  }
 ],
 "metadata": {
  "kernelspec": {
   "display_name": "Python 3 (ipykernel)",
   "language": "python",
   "name": "python3"
  },
  "language_info": {
   "codemirror_mode": {
    "name": "ipython",
    "version": 3
   },
   "file_extension": ".py",
   "mimetype": "text/x-python",
   "name": "python",
   "nbconvert_exporter": "python",
   "pygments_lexer": "ipython3",
   "version": "3.9.13"
  }
 },
 "nbformat": 4,
 "nbformat_minor": 5
}
