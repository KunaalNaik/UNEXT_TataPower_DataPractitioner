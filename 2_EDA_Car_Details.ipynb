{
 "cells": [
  {
   "cell_type": "markdown",
   "id": "61332cf1-843a-41c8-abd0-f3a31ce7a81d",
   "metadata": {},
   "source": [
    "# Import Packages"
   ]
  },
  {
   "cell_type": "code",
   "execution_count": 1,
   "id": "065683cd-c276-4b44-9165-36bd670b4318",
   "metadata": {},
   "outputs": [],
   "source": [
    "import numpy as np\n",
    "import pandas as pd"
   ]
  },
  {
   "cell_type": "markdown",
   "id": "ca98a12c-96b5-4568-b296-4f14a0f8e3a5",
   "metadata": {},
   "source": [
    "# Import Data"
   ]
  },
  {
   "cell_type": "code",
   "execution_count": 2,
   "id": "5cf88fbe-56ec-4cba-ad87-2f25ec6439c8",
   "metadata": {},
   "outputs": [],
   "source": [
    "df_car = pd.read_csv('car_details.csv')"
   ]
  },
  {
   "cell_type": "markdown",
   "id": "9a01a524-6a8b-4fbd-9089-512b9ad990b2",
   "metadata": {},
   "source": [
    "## Check Data"
   ]
  },
  {
   "cell_type": "code",
   "execution_count": 3,
   "id": "54634724-3c9e-44f4-b6d0-aa653a2cc0c1",
   "metadata": {},
   "outputs": [
    {
     "name": "stdout",
     "output_type": "stream",
     "text": [
      "<class 'pandas.core.frame.DataFrame'>\n",
      "RangeIndex: 7906 entries, 0 to 7905\n",
      "Data columns (total 17 columns):\n",
      " #   Column             Non-Null Count  Dtype \n",
      "---  ------             --------------  ----- \n",
      " 0   Sales_ID           7906 non-null   int64 \n",
      " 1   name               7906 non-null   object\n",
      " 2   year               7906 non-null   int64 \n",
      " 3   selling_price      7906 non-null   int64 \n",
      " 4   km_driven          7906 non-null   int64 \n",
      " 5   Region             7906 non-null   object\n",
      " 6   State or Province  7906 non-null   object\n",
      " 7   City               7906 non-null   object\n",
      " 8   fuel               7906 non-null   object\n",
      " 9   seller_type        7906 non-null   object\n",
      " 10  transmission       7906 non-null   object\n",
      " 11  owner              7906 non-null   object\n",
      " 12  mileage            7906 non-null   object\n",
      " 13  engine             7906 non-null   object\n",
      " 14  max_power          7906 non-null   object\n",
      " 15  seats              7906 non-null   int64 \n",
      " 16  sold               7906 non-null   object\n",
      "dtypes: int64(5), object(12)\n",
      "memory usage: 1.0+ MB\n"
     ]
    }
   ],
   "source": [
    "# Metadata\n",
    "df_car.info()"
   ]
  },
  {
   "cell_type": "markdown",
   "id": "ef7fe447-1f37-4650-a215-1b3457e5ea4f",
   "metadata": {},
   "source": [
    "## Summary Statistics"
   ]
  },
  {
   "cell_type": "code",
   "execution_count": 4,
   "id": "6b95166d-4080-451f-9e6f-2c2c98ef24d3",
   "metadata": {},
   "outputs": [
    {
     "data": {
      "text/html": [
       "<div>\n",
       "<style scoped>\n",
       "    .dataframe tbody tr th:only-of-type {\n",
       "        vertical-align: middle;\n",
       "    }\n",
       "\n",
       "    .dataframe tbody tr th {\n",
       "        vertical-align: top;\n",
       "    }\n",
       "\n",
       "    .dataframe thead th {\n",
       "        text-align: right;\n",
       "    }\n",
       "</style>\n",
       "<table border=\"1\" class=\"dataframe\">\n",
       "  <thead>\n",
       "    <tr style=\"text-align: right;\">\n",
       "      <th></th>\n",
       "      <th>Sales_ID</th>\n",
       "      <th>year</th>\n",
       "      <th>selling_price</th>\n",
       "      <th>km_driven</th>\n",
       "      <th>seats</th>\n",
       "    </tr>\n",
       "  </thead>\n",
       "  <tbody>\n",
       "    <tr>\n",
       "      <th>count</th>\n",
       "      <td>7906.000000</td>\n",
       "      <td>7906.000000</td>\n",
       "      <td>7.906000e+03</td>\n",
       "      <td>7.906000e+03</td>\n",
       "      <td>7906.000000</td>\n",
       "    </tr>\n",
       "    <tr>\n",
       "      <th>mean</th>\n",
       "      <td>4070.106248</td>\n",
       "      <td>2013.983936</td>\n",
       "      <td>6.498137e+05</td>\n",
       "      <td>6.918866e+04</td>\n",
       "      <td>5.416393</td>\n",
       "    </tr>\n",
       "    <tr>\n",
       "      <th>std</th>\n",
       "      <td>2345.770159</td>\n",
       "      <td>3.863695</td>\n",
       "      <td>8.135827e+05</td>\n",
       "      <td>5.679230e+04</td>\n",
       "      <td>0.959208</td>\n",
       "    </tr>\n",
       "    <tr>\n",
       "      <th>min</th>\n",
       "      <td>1.000000</td>\n",
       "      <td>1994.000000</td>\n",
       "      <td>2.999900e+04</td>\n",
       "      <td>1.000000e+00</td>\n",
       "      <td>2.000000</td>\n",
       "    </tr>\n",
       "    <tr>\n",
       "      <th>25%</th>\n",
       "      <td>2037.250000</td>\n",
       "      <td>2012.000000</td>\n",
       "      <td>2.700000e+05</td>\n",
       "      <td>3.500000e+04</td>\n",
       "      <td>5.000000</td>\n",
       "    </tr>\n",
       "    <tr>\n",
       "      <th>50%</th>\n",
       "      <td>4076.500000</td>\n",
       "      <td>2015.000000</td>\n",
       "      <td>4.500000e+05</td>\n",
       "      <td>6.000000e+04</td>\n",
       "      <td>5.000000</td>\n",
       "    </tr>\n",
       "    <tr>\n",
       "      <th>75%</th>\n",
       "      <td>6102.000000</td>\n",
       "      <td>2017.000000</td>\n",
       "      <td>6.900000e+05</td>\n",
       "      <td>9.542500e+04</td>\n",
       "      <td>5.000000</td>\n",
       "    </tr>\n",
       "    <tr>\n",
       "      <th>max</th>\n",
       "      <td>8128.000000</td>\n",
       "      <td>2020.000000</td>\n",
       "      <td>1.000000e+07</td>\n",
       "      <td>2.360457e+06</td>\n",
       "      <td>14.000000</td>\n",
       "    </tr>\n",
       "  </tbody>\n",
       "</table>\n",
       "</div>"
      ],
      "text/plain": [
       "          Sales_ID         year  selling_price     km_driven        seats\n",
       "count  7906.000000  7906.000000   7.906000e+03  7.906000e+03  7906.000000\n",
       "mean   4070.106248  2013.983936   6.498137e+05  6.918866e+04     5.416393\n",
       "std    2345.770159     3.863695   8.135827e+05  5.679230e+04     0.959208\n",
       "min       1.000000  1994.000000   2.999900e+04  1.000000e+00     2.000000\n",
       "25%    2037.250000  2012.000000   2.700000e+05  3.500000e+04     5.000000\n",
       "50%    4076.500000  2015.000000   4.500000e+05  6.000000e+04     5.000000\n",
       "75%    6102.000000  2017.000000   6.900000e+05  9.542500e+04     5.000000\n",
       "max    8128.000000  2020.000000   1.000000e+07  2.360457e+06    14.000000"
      ]
     },
     "execution_count": 4,
     "metadata": {},
     "output_type": "execute_result"
    }
   ],
   "source": [
    "df_car.describe()"
   ]
  },
  {
   "cell_type": "code",
   "execution_count": 7,
   "id": "efcd679f-7c5c-4f65-b7ca-08ac4eddca4d",
   "metadata": {},
   "outputs": [
    {
     "data": {
      "text/html": [
       "<div>\n",
       "<style scoped>\n",
       "    .dataframe tbody tr th:only-of-type {\n",
       "        vertical-align: middle;\n",
       "    }\n",
       "\n",
       "    .dataframe tbody tr th {\n",
       "        vertical-align: top;\n",
       "    }\n",
       "\n",
       "    .dataframe thead th {\n",
       "        text-align: right;\n",
       "    }\n",
       "</style>\n",
       "<table border=\"1\" class=\"dataframe\">\n",
       "  <thead>\n",
       "    <tr style=\"text-align: right;\">\n",
       "      <th></th>\n",
       "      <th>Sales_ID</th>\n",
       "      <th>name</th>\n",
       "      <th>year</th>\n",
       "      <th>selling_price</th>\n",
       "      <th>km_driven</th>\n",
       "      <th>Region</th>\n",
       "      <th>State or Province</th>\n",
       "      <th>City</th>\n",
       "      <th>fuel</th>\n",
       "      <th>seller_type</th>\n",
       "      <th>transmission</th>\n",
       "      <th>owner</th>\n",
       "      <th>mileage</th>\n",
       "      <th>engine</th>\n",
       "      <th>max_power</th>\n",
       "      <th>seats</th>\n",
       "      <th>sold</th>\n",
       "      <th>selling_price_k</th>\n",
       "    </tr>\n",
       "  </thead>\n",
       "  <tbody>\n",
       "    <tr>\n",
       "      <th>0</th>\n",
       "      <td>1</td>\n",
       "      <td>Maruti Swift Dzire VDI</td>\n",
       "      <td>2014</td>\n",
       "      <td>450000</td>\n",
       "      <td>145500</td>\n",
       "      <td>East</td>\n",
       "      <td>District of Columbia</td>\n",
       "      <td>Washington</td>\n",
       "      <td>Diesel</td>\n",
       "      <td>Individual</td>\n",
       "      <td>Manual</td>\n",
       "      <td>First Owner</td>\n",
       "      <td>23.4 kmpl</td>\n",
       "      <td>1248 CC</td>\n",
       "      <td>74 bhp</td>\n",
       "      <td>5</td>\n",
       "      <td>Y</td>\n",
       "      <td>4.50</td>\n",
       "    </tr>\n",
       "    <tr>\n",
       "      <th>1</th>\n",
       "      <td>2</td>\n",
       "      <td>Skoda Rapid 1.5 TDI Ambition</td>\n",
       "      <td>2014</td>\n",
       "      <td>370000</td>\n",
       "      <td>120000</td>\n",
       "      <td>East</td>\n",
       "      <td>New York</td>\n",
       "      <td>New York City</td>\n",
       "      <td>Diesel</td>\n",
       "      <td>Individual</td>\n",
       "      <td>Manual</td>\n",
       "      <td>Second Owner</td>\n",
       "      <td>21.14 kmpl</td>\n",
       "      <td>1498 CC</td>\n",
       "      <td>103.52 bhp</td>\n",
       "      <td>5</td>\n",
       "      <td>Y</td>\n",
       "      <td>3.70</td>\n",
       "    </tr>\n",
       "    <tr>\n",
       "      <th>2</th>\n",
       "      <td>3</td>\n",
       "      <td>Honda City 2017-2020 EXi</td>\n",
       "      <td>2006</td>\n",
       "      <td>158000</td>\n",
       "      <td>140000</td>\n",
       "      <td>Central</td>\n",
       "      <td>Illinois</td>\n",
       "      <td>Chicago</td>\n",
       "      <td>Petrol</td>\n",
       "      <td>Individual</td>\n",
       "      <td>Manual</td>\n",
       "      <td>Third Owner</td>\n",
       "      <td>17.7 kmpl</td>\n",
       "      <td>1497 CC</td>\n",
       "      <td>78 bhp</td>\n",
       "      <td>5</td>\n",
       "      <td>Y</td>\n",
       "      <td>1.58</td>\n",
       "    </tr>\n",
       "    <tr>\n",
       "      <th>3</th>\n",
       "      <td>4</td>\n",
       "      <td>Hyundai i20 Sportz Diesel</td>\n",
       "      <td>2010</td>\n",
       "      <td>225000</td>\n",
       "      <td>127000</td>\n",
       "      <td>Central</td>\n",
       "      <td>Illinois</td>\n",
       "      <td>Chicago</td>\n",
       "      <td>Diesel</td>\n",
       "      <td>Individual</td>\n",
       "      <td>Manual</td>\n",
       "      <td>First Owner</td>\n",
       "      <td>23.0 kmpl</td>\n",
       "      <td>1396 CC</td>\n",
       "      <td>90 bhp</td>\n",
       "      <td>5</td>\n",
       "      <td>Y</td>\n",
       "      <td>2.25</td>\n",
       "    </tr>\n",
       "    <tr>\n",
       "      <th>4</th>\n",
       "      <td>5</td>\n",
       "      <td>Maruti Swift VXI BSIII</td>\n",
       "      <td>2007</td>\n",
       "      <td>130000</td>\n",
       "      <td>120000</td>\n",
       "      <td>East</td>\n",
       "      <td>New York</td>\n",
       "      <td>New York City</td>\n",
       "      <td>Petrol</td>\n",
       "      <td>Individual</td>\n",
       "      <td>Manual</td>\n",
       "      <td>First Owner</td>\n",
       "      <td>16.1 kmpl</td>\n",
       "      <td>1298 CC</td>\n",
       "      <td>88.2 bhp</td>\n",
       "      <td>5</td>\n",
       "      <td>Y</td>\n",
       "      <td>1.30</td>\n",
       "    </tr>\n",
       "  </tbody>\n",
       "</table>\n",
       "</div>"
      ],
      "text/plain": [
       "   Sales_ID                          name  year  selling_price  km_driven  \\\n",
       "0         1        Maruti Swift Dzire VDI  2014         450000     145500   \n",
       "1         2  Skoda Rapid 1.5 TDI Ambition  2014         370000     120000   \n",
       "2         3      Honda City 2017-2020 EXi  2006         158000     140000   \n",
       "3         4     Hyundai i20 Sportz Diesel  2010         225000     127000   \n",
       "4         5        Maruti Swift VXI BSIII  2007         130000     120000   \n",
       "\n",
       "    Region     State or Province           City    fuel seller_type  \\\n",
       "0     East  District of Columbia     Washington  Diesel  Individual   \n",
       "1     East              New York  New York City  Diesel  Individual   \n",
       "2  Central              Illinois        Chicago  Petrol  Individual   \n",
       "3  Central              Illinois        Chicago  Diesel  Individual   \n",
       "4     East              New York  New York City  Petrol  Individual   \n",
       "\n",
       "  transmission         owner     mileage   engine   max_power  seats sold  \\\n",
       "0       Manual   First Owner   23.4 kmpl  1248 CC      74 bhp      5    Y   \n",
       "1       Manual  Second Owner  21.14 kmpl  1498 CC  103.52 bhp      5    Y   \n",
       "2       Manual   Third Owner   17.7 kmpl  1497 CC      78 bhp      5    Y   \n",
       "3       Manual   First Owner   23.0 kmpl  1396 CC      90 bhp      5    Y   \n",
       "4       Manual   First Owner   16.1 kmpl  1298 CC    88.2 bhp      5    Y   \n",
       "\n",
       "   selling_price_k  \n",
       "0             4.50  \n",
       "1             3.70  \n",
       "2             1.58  \n",
       "3             2.25  \n",
       "4             1.30  "
      ]
     },
     "execution_count": 7,
     "metadata": {},
     "output_type": "execute_result"
    }
   ],
   "source": [
    "df_car.head()"
   ]
  },
  {
   "cell_type": "markdown",
   "id": "f5669baa-a516-489d-ae32-c97a0a49c895",
   "metadata": {},
   "source": [
    "## Selling Price - Divide by 100000 - new col (selling_price_k)"
   ]
  },
  {
   "cell_type": "code",
   "execution_count": 6,
   "id": "41efdfaa-25f0-4619-b980-77c1a052ca2e",
   "metadata": {},
   "outputs": [],
   "source": [
    "df_car['selling_price_k'] = df_car['selling_price']/100000"
   ]
  },
  {
   "cell_type": "markdown",
   "id": "45a4453d-2fbf-4b27-9e6c-b4eeadce599e",
   "metadata": {},
   "source": [
    "# EDA - Questions"
   ]
  },
  {
   "cell_type": "markdown",
   "id": "15eac100-7783-4919-a9c4-9ef1c030ff26",
   "metadata": {},
   "source": [
    "## How many car are there in each region?"
   ]
  },
  {
   "cell_type": "code",
   "execution_count": 8,
   "id": "d140db17-1bf3-427b-b4c5-4cb192479232",
   "metadata": {},
   "outputs": [
    {
     "data": {
      "text/plain": [
       "Central    2376\n",
       "West       1976\n",
       "East       1939\n",
       "South      1615\n",
       "Name: Region, dtype: int64"
      ]
     },
     "execution_count": 8,
     "metadata": {},
     "output_type": "execute_result"
    }
   ],
   "source": [
    "df_car['Region'].value_counts()"
   ]
  },
  {
   "cell_type": "markdown",
   "id": "d7b4ff43-2eaa-43ec-b2cf-ff86cd29bbbc",
   "metadata": {},
   "source": [
    "## Which region has the highest percentage of cars?"
   ]
  },
  {
   "cell_type": "code",
   "execution_count": 9,
   "id": "cd1c0ee5-223a-4c28-956f-6d3591eaa980",
   "metadata": {},
   "outputs": [
    {
     "data": {
      "text/plain": [
       "Central    0.300531\n",
       "West       0.249937\n",
       "East       0.245257\n",
       "South      0.204275\n",
       "Name: Region, dtype: float64"
      ]
     },
     "execution_count": 9,
     "metadata": {},
     "output_type": "execute_result"
    }
   ],
   "source": [
    "df_car['Region'].value_counts(normalize = True)"
   ]
  },
  {
   "cell_type": "markdown",
   "id": "d512a529-5c9d-43c8-a62c-517b7512a545",
   "metadata": {},
   "source": [
    "## What year has the most cars?"
   ]
  },
  {
   "cell_type": "code",
   "execution_count": 14,
   "id": "3e803922-c094-4380-9f34-b8e5c7f850bd",
   "metadata": {},
   "outputs": [
    {
     "data": {
      "text/plain": [
       "(2014.8, 2017.4]      2641\n",
       "(2009.6, 2012.2]      1566\n",
       "(2017.4, 2020.0]      1463\n",
       "(2012.2, 2014.8]      1288\n",
       "(2007.0, 2009.6]       432\n",
       "(2004.4, 2007.0]       351\n",
       "(2001.8, 2004.4]       107\n",
       "(1996.6, 1999.2]        32\n",
       "(1999.2, 2001.8]        21\n",
       "(1993.973, 1996.6]       5\n",
       "Name: year, dtype: int64"
      ]
     },
     "execution_count": 14,
     "metadata": {},
     "output_type": "execute_result"
    }
   ],
   "source": [
    "df_car['year'].value_counts(bins = 10)"
   ]
  },
  {
   "cell_type": "markdown",
   "id": "afa37eee-f120-4342-bee0-b6d77757948d",
   "metadata": {},
   "source": [
    "## kms range where most cars were driven?"
   ]
  },
  {
   "cell_type": "code",
   "execution_count": 15,
   "id": "973bceb8-f4dc-470e-8f1b-06f2d60fd4a9",
   "metadata": {},
   "outputs": [
    {
     "data": {
      "text/plain": [
       "(-2359.4570000000003, 236046.6]    7835\n",
       "(236046.6, 472092.2]                 65\n",
       "(472092.2, 708137.8]                  4\n",
       "(1416274.6, 1652320.2]                1\n",
       "(2124411.4, 2360457.0]                1\n",
       "(708137.8, 944183.4]                  0\n",
       "(944183.4, 1180229.0]                 0\n",
       "(1180229.0, 1416274.6]                0\n",
       "(1652320.2, 1888365.8]                0\n",
       "(1888365.8, 2124411.4]                0\n",
       "Name: km_driven, dtype: int64"
      ]
     },
     "execution_count": 15,
     "metadata": {},
     "output_type": "execute_result"
    }
   ],
   "source": [
    "df_car['km_driven'].value_counts(bins = 10)"
   ]
  },
  {
   "cell_type": "markdown",
   "id": "fca6c592-bd8d-41e3-b2da-2f635a6bff9f",
   "metadata": {},
   "source": [
    "# EDA by plots"
   ]
  },
  {
   "cell_type": "code",
   "execution_count": 18,
   "id": "2400e467-36ef-4d0c-93d9-c732550f9b90",
   "metadata": {},
   "outputs": [
    {
     "data": {
      "text/plain": [
       "<AxesSubplot:>"
      ]
     },
     "execution_count": 18,
     "metadata": {},
     "output_type": "execute_result"
    },
    {
     "data": {
      "image/png": "[encoded data removed]",
      "text/plain": [
       "<Figure size 640x480 with 1 Axes>"
      ]
     },
     "metadata": {},
     "output_type": "display_data"
    }
   ],
   "source": [
    "df_car['year'].value_counts(bins = 10).plot.bar()"
   ]
  },
  {
   "cell_type": "code",
   "execution_count": 20,
   "id": "e3cecb71-24ce-431f-a4fd-b45a25037753",
   "metadata": {},
   "outputs": [
    {
     "data": {
      "text/plain": [
       "<AxesSubplot:>"
      ]
     },
     "execution_count": 20,
     "metadata": {},
     "output_type": "execute_result"
    },
    {
     "data": {
      "image/png": "[encoded data removed]",
      "text/plain": [
       "<Figure size 640x480 with 1 Axes>"
      ]
     },
     "metadata": {},
     "output_type": "display_data"
    }
   ],
   "source": [
    "df_car['seats'].plot.box()"
   ]
  },
  {
   "cell_type": "code",
   "execution_count": 25,
   "id": "2b66b3af-6d19-4ae9-b2bf-4880f613ad74",
   "metadata": {},
   "outputs": [
    {
     "data": {
      "text/plain": [
       "<AxesSubplot:>"
      ]
     },
     "execution_count": 25,
     "metadata": {},
     "output_type": "execute_result"
    },
    {
     "data": {
      "image/png": "[encoded data removed]",
      "text/plain": [
       "<Figure size 640x480 with 1 Axes>"
      ]
     },
     "metadata": {},
     "output_type": "display_data"
    }
   ],
   "source": [
    "df_car[['year','seats','selling_price','km_driven']].plot.box()\n",
    "\n",
    "#transformations"
   ]
  },
  {
   "cell_type": "code",
   "execution_count": null,
   "id": "88910b8d-66f7-436c-ad86-ec941b61afe7",
   "metadata": {},
   "outputs": [],
   "source": []
  }
 ],
 "metadata": {
  "kernelspec": {
   "display_name": "Python 3 (ipykernel)",
   "language": "python",
   "name": "python3"
  },
  "language_info": {
   "codemirror_mode": {
    "name": "ipython",
    "version": 3
   },
   "file_extension": ".py",
   "mimetype": "text/x-python",
   "name": "python",
   "nbconvert_exporter": "python",
   "pygments_lexer": "ipython3",
   "version": "3.9.13"
  }
 },
 "nbformat": 4,
 "nbformat_minor": 5
}
